{
 "cells": [
  {
   "cell_type": "code",
   "execution_count": null,
   "metadata": {},
   "outputs": [],
   "source": [
    "import os\n",
    "import pandas as pd\n",
    "from videoprops import get_video_properties"
   ]
  },
  {
   "cell_type": "code",
   "execution_count": null,
   "metadata": {},
   "outputs": [],
   "source": [
    "dirname = \"./output/\""
   ]
  },
  {
   "cell_type": "code",
   "execution_count": null,
   "metadata": {
    "scrolled": false
   },
   "outputs": [],
   "source": [
    "listfile = os.listdir(dirname)\n",
    "listfile= sorted(listfile, key=str.casefold)\n",
    "data = [\"path\", \"width\", \"height\", \"framerate\", \"aspect_ratio\"]\n",
    "df = pd.DataFrame(data)\n",
    "i = 0\n",
    "for word in listfile:\n",
    "    for csv in os.listdir(dirname + word):\n",
    "        filepath = os.path.join(dirname, word, csv)        \n",
    "        props= get_video_properties(filepath)\n",
    "        framerate = props['avg_frame_rate'].split('/')\n",
    "        framerate2 = int(framerate[0]) /int(framerate[1])\n",
    "        props['avg_frame_rate']\n",
    "        #print(filepath,\",\", props['width'],\",\",props['height'],\",\",framerate2,\",\", props['display_aspect_ratio'])\n",
    "        #data = \",\".join([filepath, str(props['width']),str(props['height']),str(framerate2), props['display_aspect_ratio']])\n",
    "        data = [filepath, str(props['width']),str(props['height']),str(framerate2), props['display_aspect_ratio']]\n",
    "\n",
    "        df.append(data)\n",
    "        print(data)\n",
    "        \n",
    "        \n"
   ]
  },
  {
   "cell_type": "code",
   "execution_count": null,
   "metadata": {},
   "outputs": [],
   "source": [
    "dirname = \"/home/michi/Videos/oldchool/Haben/1a967860-4c9a-4203-b5eb-e7f80bf9bfd2.mp4\"\n",
    "props= get_video_properties(dirname)\n",
    "props"
   ]
  },
  {
   "cell_type": "code",
   "execution_count": null,
   "metadata": {},
   "outputs": [],
   "source": [
    "dirname = \"/home/michi/Videos/1a967860-4c9a-4203-b5eb-e7f80bf9bfd2.m4v\"\n",
    "props= get_video_properties(dirname)\n",
    "props"
   ]
  }
 ],
 "metadata": {
  "kernelspec": {
   "display_name": "tensor-gpu",
   "language": "python",
   "name": "tensor-gpu"
  },
  "language_info": {
   "codemirror_mode": {
    "name": "ipython",
    "version": 3
   },
   "file_extension": ".py",
   "mimetype": "text/x-python",
   "name": "python",
   "nbconvert_exporter": "python",
   "pygments_lexer": "ipython3",
   "version": "3.8.3"
  }
 },
 "nbformat": 4,
 "nbformat_minor": 4
}
